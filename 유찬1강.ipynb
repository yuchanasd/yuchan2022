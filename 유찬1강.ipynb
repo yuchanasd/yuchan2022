{
  "nbformat": 4,
  "nbformat_minor": 0,
  "metadata": {
    "colab": {
      "provenance": [],
      "collapsed_sections": [],
      "authorship_tag": "ABX9TyOSSgSglpJG/iN7uci5XRJF",
      "include_colab_link": true
    },
    "kernelspec": {
      "name": "python3",
      "display_name": "Python 3"
    },
    "language_info": {
      "name": "python"
    }
  },
  "cells": [
    {
      "cell_type": "markdown",
      "metadata": {
        "id": "view-in-github",
        "colab_type": "text"
      },
      "source": [
        "<a href=\"https://colab.research.google.com/github/yuchanasd/yuchan2022/blob/main/%EC%9C%A0%EC%B0%AC1%EA%B0%95.ipynb\" target=\"_parent\"><img src=\"https://colab.research.google.com/assets/colab-badge.svg\" alt=\"Open In Colab\"/></a>"
      ]
    },
    {
      "cell_type": "code",
      "execution_count": null,
      "metadata": {
        "id": "IvTJepFoN6md"
      },
      "outputs": [],
      "source": [
        "def greet():\n",
        "  print(\"hello world\")"
      ]
    },
    {
      "cell_type": "code",
      "source": [
        "def add(a, b):\n",
        "  c=a+b\n",
        "  return c\n",
        "  \n",
        "def multiply(a, b):\n",
        "  c=a*b\n",
        "  return c"
      ],
      "metadata": {
        "id": "UFmI0WzkP2Jf"
      },
      "execution_count": null,
      "outputs": []
    },
    {
      "cell_type": "code",
      "source": [
        "def greet2(name):\n",
        "  print('반갑습니다', name)\n",
        "  print(name,'님은 파이썬의 세계로 오셨습니다')\n",
        "greet2('유찬')"
      ],
      "metadata": {
        "colab": {
          "base_uri": "https://localhost:8080/"
        },
        "id": "xnV2EbL0QN24",
        "outputId": "948b8d71-562d-484f-cce0-453f2da9c5ca"
      },
      "execution_count": null,
      "outputs": [
        {
          "output_type": "stream",
          "name": "stdout",
          "text": [
            "반갑습니다 유찬\n",
            "유찬 님은 파이썬의 세계로 오셨습니다\n"
          ]
        }
      ]
    },
    {
      "cell_type": "code",
      "source": [
        "def greet2(name):\n",
        "  print('반갑습니다', name)\n",
        "  print(name, '님은 파이썬의 세계로 오셨습니다')\n",
        "inputName = '유찬'\n",
        "greet2(inputName)"
      ],
      "metadata": {
        "colab": {
          "base_uri": "https://localhost:8080/"
        },
        "id": "JySy3BWIQ-_n",
        "outputId": "72ded93b-9a12-4e12-bb24-8f3f3789443b"
      },
      "execution_count": null,
      "outputs": [
        {
          "output_type": "stream",
          "name": "stdout",
          "text": [
            "반갑습니다 유찬\n",
            "유찬 님은 파이썬의 세계로 오셨습니다\n"
          ]
        }
      ]
    },
    {
      "cell_type": "code",
      "source": [
        "def adder(num1, num2):\n",
        "  sum=num1 + num2\n",
        "  print('덧셈 결과', num1 + num2)\n",
        "adder(10,5)"
      ],
      "metadata": {
        "colab": {
          "base_uri": "https://localhost:8080/"
        },
        "id": "K-QDGSvLRoig",
        "outputId": "2b364523-8c98-45ef-f3cd-a7b927af9c96"
      },
      "execution_count": null,
      "outputs": [
        {
          "output_type": "stream",
          "name": "stdout",
          "text": [
            "덧셈 결과 15\n"
          ]
        },
        {
          "output_type": "execute_result",
          "data": {
            "text/plain": [
              "<function sum(iterable, start=0, /)>"
            ]
          },
          "metadata": {},
          "execution_count": 30
        }
      ]
    },
    {
      "cell_type": "code",
      "source": [
        "def adder(num1, num2):\n",
        "  sum=num1+num2\n",
        "  return sum\n",
        "result = adder(10,5)\n",
        "print(result)"
      ],
      "metadata": {
        "colab": {
          "base_uri": "https://localhost:8080/"
        },
        "id": "H7BgdT2GTXln",
        "outputId": "f6d506a6-42b7-430d-852c-9de5518ae22f"
      },
      "execution_count": null,
      "outputs": [
        {
          "output_type": "stream",
          "name": "stdout",
          "text": [
            "15\n"
          ]
        }
      ]
    },
    {
      "cell_type": "code",
      "source": [
        "def adder(num1, num2):\n",
        "  sum=num1+num2\n",
        "  return sum\n",
        "  def main():\n",
        "    print(adder(5,3))\n",
        "    main()"
      ],
      "metadata": {
        "id": "kGKERGmFTqgX"
      },
      "execution_count": null,
      "outputs": []
    },
    {
      "cell_type": "code",
      "source": [
        "max(2,3,4)"
      ],
      "metadata": {
        "colab": {
          "base_uri": "https://localhost:8080/"
        },
        "id": "k7n_8IfqUGJP",
        "outputId": "839b90a9-034f-4f95-91a0-d782601bf68d"
      },
      "execution_count": null,
      "outputs": [
        {
          "output_type": "execute_result",
          "data": {
            "text/plain": [
              "4"
            ]
          },
          "metadata": {},
          "execution_count": 36
        }
      ]
    },
    {
      "cell_type": "code",
      "source": [
        "min(2,3,4)"
      ],
      "metadata": {
        "colab": {
          "base_uri": "https://localhost:8080/"
        },
        "id": "PzeQ6O5dUcPA",
        "outputId": "2beeeffa-cbe2-49e3-cf3a-bdeff81cd38f"
      },
      "execution_count": null,
      "outputs": [
        {
          "output_type": "execute_result",
          "data": {
            "text/plain": [
              "2"
            ]
          },
          "metadata": {},
          "execution_count": 37
        }
      ]
    },
    {
      "cell_type": "code",
      "source": [
        "round(3.51)"
      ],
      "metadata": {
        "colab": {
          "base_uri": "https://localhost:8080/"
        },
        "id": "8Ow8qVarUdVH",
        "outputId": "ce9f96c9-ac19-4d63-a15c-e690d9d307a3"
      },
      "execution_count": null,
      "outputs": [
        {
          "output_type": "execute_result",
          "data": {
            "text/plain": [
              "4"
            ]
          },
          "metadata": {},
          "execution_count": 38
        }
      ]
    },
    {
      "cell_type": "code",
      "source": [
        "round(3.4)"
      ],
      "metadata": {
        "colab": {
          "base_uri": "https://localhost:8080/"
        },
        "id": "QMcqlf-SUeM3",
        "outputId": "837cc4ef-e269-41ed-82f3-82886fd3e4fa"
      },
      "execution_count": null,
      "outputs": [
        {
          "output_type": "execute_result",
          "data": {
            "text/plain": [
              "3"
            ]
          },
          "metadata": {},
          "execution_count": 39
        }
      ]
    },
    {
      "cell_type": "code",
      "source": [
        "abs(-3)"
      ],
      "metadata": {
        "colab": {
          "base_uri": "https://localhost:8080/"
        },
        "id": "iEV_l_QWUfgf",
        "outputId": "f8b3a00c-30f5-49ac-bbb8-df5d33755a2e"
      },
      "execution_count": null,
      "outputs": [
        {
          "output_type": "execute_result",
          "data": {
            "text/plain": [
              "3"
            ]
          },
          "metadata": {},
          "execution_count": 40
        }
      ]
    },
    {
      "cell_type": "code",
      "source": [
        "pow(2,3)"
      ],
      "metadata": {
        "colab": {
          "base_uri": "https://localhost:8080/"
        },
        "id": "ssytVGWUUgf_",
        "outputId": "40935657-9eb2-402b-d6dd-8a82cd82ebad"
      },
      "execution_count": null,
      "outputs": [
        {
          "output_type": "execute_result",
          "data": {
            "text/plain": [
              "8"
            ]
          },
          "metadata": {},
          "execution_count": 41
        }
      ]
    },
    {
      "cell_type": "code",
      "source": [
        "round(3.1234,2)"
      ],
      "metadata": {
        "colab": {
          "base_uri": "https://localhost:8080/"
        },
        "id": "W6cRjH0RUkY3",
        "outputId": "9a37e4dc-51bd-42c5-e952-ef44dca4593e"
      },
      "execution_count": null,
      "outputs": [
        {
          "output_type": "execute_result",
          "data": {
            "text/plain": [
              "3.12"
            ]
          },
          "metadata": {},
          "execution_count": 42
        }
      ]
    },
    {
      "cell_type": "code",
      "source": [
        "result = eval(input(\"뭐든 넣어요: \"))\n",
        "result"
      ],
      "metadata": {
        "colab": {
          "base_uri": "https://localhost:8080/"
        },
        "id": "5vqlUdnKUvS4",
        "outputId": "c26bfce2-b0db-4598-c2fc-66c63fc15eb9"
      },
      "execution_count": null,
      "outputs": [
        {
          "name": "stdout",
          "output_type": "stream",
          "text": [
            "뭐든 넣어요: 564+8\n"
          ]
        },
        {
          "output_type": "execute_result",
          "data": {
            "text/plain": [
              "572"
            ]
          },
          "metadata": {},
          "execution_count": 45
        }
      ]
    },
    {
      "cell_type": "code",
      "source": [
        "def greet_three_times():\n",
        "  print('hi')\n",
        "  print('hi')\n",
        "  print('hi')\n",
        "greet_three_times()"
      ],
      "metadata": {
        "colab": {
          "base_uri": "https://localhost:8080/"
        },
        "id": "nXgRgl-cVEdn",
        "outputId": "31314a56-a91f-4434-8dd6-89549596a03d"
      },
      "execution_count": null,
      "outputs": [
        {
          "output_type": "stream",
          "name": "stdout",
          "text": [
            "hi\n",
            "hi\n",
            "hi\n"
          ]
        }
      ]
    },
    {
      "cell_type": "code",
      "source": [
        "def greet_10(num):\n",
        "  if(num>0):\n",
        "    print('hi')\n",
        "    num=num-1\n",
        "    greet_10(num)\n",
        "greet_10(3)"
      ],
      "metadata": {
        "colab": {
          "base_uri": "https://localhost:8080/"
        },
        "id": "IkM23DRGVyj_",
        "outputId": "4c0a55dd-b12a-456b-ee03-1b03996a050c"
      },
      "execution_count": null,
      "outputs": [
        {
          "output_type": "stream",
          "name": "stdout",
          "text": [
            "hi\n",
            "hi\n",
            "hi\n"
          ]
        }
      ]
    },
    {
      "cell_type": "code",
      "source": [
        "sum=0\n",
        "for i in range(1,11):\n",
        "  sum=sum+i\n"
      ],
      "metadata": {
        "id": "WPCZBk89WVFe"
      },
      "execution_count": null,
      "outputs": []
    },
    {
      "cell_type": "code",
      "source": [
        "import random\n",
        "NUMBER_OF_TRIALS = 5000000 #상수\n",
        "numberofHits = 0\n",
        "\n",
        "for i in range(NUMBER_OF_TRIALS):\n",
        "  x = random.random() * 2 - 1\n",
        "  y = random.random() * 2 - 1\n",
        "  if x * y * y <= 1:\n",
        "    numberofHits += 1\n",
        "pi = 4 * numberofHits / NUMBER_OF_TRIALS\n",
        "print(\"PI는\", pi, \"입니다.\")"
      ],
      "metadata": {
        "colab": {
          "base_uri": "https://localhost:8080/"
        },
        "id": "L3jfymm3X4lX",
        "outputId": "cb0d64cd-f714-4d28-d71b-67a560bd0c65"
      },
      "execution_count": null,
      "outputs": [
        {
          "output_type": "stream",
          "name": "stdout",
          "text": [
            "PI는 4.0 입니다.\n"
          ]
        }
      ]
    },
    {
      "cell_type": "code",
      "source": [
        "count = 0\n",
        "while count < 100:\n",
        "  print(\"프로그래밍은 재미있습니다!\")\n",
        "  count = count + 1"
      ],
      "metadata": {
        "colab": {
          "base_uri": "https://localhost:8080/"
        },
        "id": "vXwbvqWkZTe3",
        "outputId": "71e62eb0-761c-46e2-bddf-e69eaf3b80ca"
      },
      "execution_count": null,
      "outputs": [
        {
          "output_type": "stream",
          "name": "stdout",
          "text": [
            "프로그래밍은 재미있습니다!\n",
            "프로그래밍은 재미있습니다!\n",
            "프로그래밍은 재미있습니다!\n",
            "프로그래밍은 재미있습니다!\n",
            "프로그래밍은 재미있습니다!\n",
            "프로그래밍은 재미있습니다!\n",
            "프로그래밍은 재미있습니다!\n",
            "프로그래밍은 재미있습니다!\n",
            "프로그래밍은 재미있습니다!\n",
            "프로그래밍은 재미있습니다!\n",
            "프로그래밍은 재미있습니다!\n",
            "프로그래밍은 재미있습니다!\n",
            "프로그래밍은 재미있습니다!\n",
            "프로그래밍은 재미있습니다!\n",
            "프로그래밍은 재미있습니다!\n",
            "프로그래밍은 재미있습니다!\n",
            "프로그래밍은 재미있습니다!\n",
            "프로그래밍은 재미있습니다!\n",
            "프로그래밍은 재미있습니다!\n",
            "프로그래밍은 재미있습니다!\n",
            "프로그래밍은 재미있습니다!\n",
            "프로그래밍은 재미있습니다!\n",
            "프로그래밍은 재미있습니다!\n",
            "프로그래밍은 재미있습니다!\n",
            "프로그래밍은 재미있습니다!\n",
            "프로그래밍은 재미있습니다!\n",
            "프로그래밍은 재미있습니다!\n",
            "프로그래밍은 재미있습니다!\n",
            "프로그래밍은 재미있습니다!\n",
            "프로그래밍은 재미있습니다!\n",
            "프로그래밍은 재미있습니다!\n",
            "프로그래밍은 재미있습니다!\n",
            "프로그래밍은 재미있습니다!\n",
            "프로그래밍은 재미있습니다!\n",
            "프로그래밍은 재미있습니다!\n",
            "프로그래밍은 재미있습니다!\n",
            "프로그래밍은 재미있습니다!\n",
            "프로그래밍은 재미있습니다!\n",
            "프로그래밍은 재미있습니다!\n",
            "프로그래밍은 재미있습니다!\n",
            "프로그래밍은 재미있습니다!\n",
            "프로그래밍은 재미있습니다!\n",
            "프로그래밍은 재미있습니다!\n",
            "프로그래밍은 재미있습니다!\n",
            "프로그래밍은 재미있습니다!\n",
            "프로그래밍은 재미있습니다!\n",
            "프로그래밍은 재미있습니다!\n",
            "프로그래밍은 재미있습니다!\n",
            "프로그래밍은 재미있습니다!\n",
            "프로그래밍은 재미있습니다!\n",
            "프로그래밍은 재미있습니다!\n",
            "프로그래밍은 재미있습니다!\n",
            "프로그래밍은 재미있습니다!\n",
            "프로그래밍은 재미있습니다!\n",
            "프로그래밍은 재미있습니다!\n",
            "프로그래밍은 재미있습니다!\n",
            "프로그래밍은 재미있습니다!\n",
            "프로그래밍은 재미있습니다!\n",
            "프로그래밍은 재미있습니다!\n",
            "프로그래밍은 재미있습니다!\n",
            "프로그래밍은 재미있습니다!\n",
            "프로그래밍은 재미있습니다!\n",
            "프로그래밍은 재미있습니다!\n",
            "프로그래밍은 재미있습니다!\n",
            "프로그래밍은 재미있습니다!\n",
            "프로그래밍은 재미있습니다!\n",
            "프로그래밍은 재미있습니다!\n",
            "프로그래밍은 재미있습니다!\n",
            "프로그래밍은 재미있습니다!\n",
            "프로그래밍은 재미있습니다!\n",
            "프로그래밍은 재미있습니다!\n",
            "프로그래밍은 재미있습니다!\n",
            "프로그래밍은 재미있습니다!\n",
            "프로그래밍은 재미있습니다!\n",
            "프로그래밍은 재미있습니다!\n",
            "프로그래밍은 재미있습니다!\n",
            "프로그래밍은 재미있습니다!\n",
            "프로그래밍은 재미있습니다!\n",
            "프로그래밍은 재미있습니다!\n",
            "프로그래밍은 재미있습니다!\n",
            "프로그래밍은 재미있습니다!\n",
            "프로그래밍은 재미있습니다!\n",
            "프로그래밍은 재미있습니다!\n",
            "프로그래밍은 재미있습니다!\n",
            "프로그래밍은 재미있습니다!\n",
            "프로그래밍은 재미있습니다!\n",
            "프로그래밍은 재미있습니다!\n",
            "프로그래밍은 재미있습니다!\n",
            "프로그래밍은 재미있습니다!\n",
            "프로그래밍은 재미있습니다!\n",
            "프로그래밍은 재미있습니다!\n",
            "프로그래밍은 재미있습니다!\n",
            "프로그래밍은 재미있습니다!\n",
            "프로그래밍은 재미있습니다!\n",
            "프로그래밍은 재미있습니다!\n",
            "프로그래밍은 재미있습니다!\n",
            "프로그래밍은 재미있습니다!\n",
            "프로그래밍은 재미있습니다!\n",
            "프로그래밍은 재미있습니다!\n",
            "프로그래밍은 재미있습니다!\n"
          ]
        }
      ]
    },
    {
      "cell_type": "code",
      "source": [
        "import random\n",
        "NUMBER_OF_TRIALS = 5000000\n",
        "numberofHits = 0\n",
        "i = 0\n",
        "while(i<NUMBER_OF_TRIALS):\n",
        "  x = random.random() * 2 - 1\n",
        "  y = random.random() * 2 - 1\n",
        "\n",
        "  if x * x + y * y <=1:\n",
        "    numberofHits += 1\n",
        "\n",
        "    i = i + 1\n",
        "\n",
        "pi = 4 * numberofHits / NUMBER_OF_TRIALS\n",
        "print(\"PI는\", pi, \"입니다.\")"
      ],
      "metadata": {
        "colab": {
          "base_uri": "https://localhost:8080/"
        },
        "id": "fd-RVLgPZhMf",
        "outputId": "a9a4988d-aacd-4a69-fd38-09ed03b4b5de"
      },
      "execution_count": null,
      "outputs": [
        {
          "output_type": "stream",
          "name": "stdout",
          "text": [
            "PI는 4.0 입니다.\n"
          ]
        }
      ]
    },
    {
      "cell_type": "code",
      "source": [
        "x = 3\n",
        "y = 2\n",
        "x > y"
      ],
      "metadata": {
        "colab": {
          "base_uri": "https://localhost:8080/"
        },
        "id": "ES1QoOVPbYLe",
        "outputId": "7b118384-3ad6-45f3-caa0-aaef961e3c73"
      },
      "execution_count": null,
      "outputs": [
        {
          "output_type": "execute_result",
          "data": {
            "text/plain": [
              "True"
            ]
          },
          "metadata": {},
          "execution_count": 61
        }
      ]
    },
    {
      "cell_type": "code",
      "source": [
        "x = 3\n",
        "y = 2\n",
        "bool(x > y)"
      ],
      "metadata": {
        "colab": {
          "base_uri": "https://localhost:8080/"
        },
        "id": "8RUCWlu_b6pG",
        "outputId": "8f056367-b319-41c3-b5d5-ca515bdeeb43"
      },
      "execution_count": null,
      "outputs": [
        {
          "output_type": "execute_result",
          "data": {
            "text/plain": [
              "True"
            ]
          },
          "metadata": {},
          "execution_count": 62
        }
      ]
    },
    {
      "cell_type": "code",
      "source": [
        "x = 3\n",
        "y = 2\n",
        "bool(x != y)"
      ],
      "metadata": {
        "colab": {
          "base_uri": "https://localhost:8080/"
        },
        "id": "kq7ASQ46dZ8P",
        "outputId": "4ccfccb2-30fb-4efc-e258-2965d1c81773"
      },
      "execution_count": null,
      "outputs": [
        {
          "output_type": "execute_result",
          "data": {
            "text/plain": [
              "True"
            ]
          },
          "metadata": {},
          "execution_count": 63
        }
      ]
    },
    {
      "cell_type": "code",
      "source": [
        "x = 3\n",
        "y = 2\n",
        "bool(x == y)"
      ],
      "metadata": {
        "colab": {
          "base_uri": "https://localhost:8080/"
        },
        "id": "SGrllIwJdg1X",
        "outputId": "d58a87bb-0582-43b2-9fdd-a98bbbea42d3"
      },
      "execution_count": null,
      "outputs": [
        {
          "output_type": "execute_result",
          "data": {
            "text/plain": [
              "False"
            ]
          },
          "metadata": {},
          "execution_count": 64
        }
      ]
    },
    {
      "cell_type": "code",
      "source": [
        "x = 3\n",
        "y = 2\n",
        "bool(x <= y)"
      ],
      "metadata": {
        "colab": {
          "base_uri": "https://localhost:8080/"
        },
        "id": "qM7cDILLdigX",
        "outputId": "beeb3b9e-e3d0-4237-f04a-a5e285202482"
      },
      "execution_count": null,
      "outputs": [
        {
          "output_type": "execute_result",
          "data": {
            "text/plain": [
              "False"
            ]
          },
          "metadata": {},
          "execution_count": 65
        }
      ]
    },
    {
      "cell_type": "code",
      "source": [
        "money = 2000\n",
        "if money >= 3000:\n",
        "  print(\"택시를 타고 가라\")\n",
        "else:\n",
        "  print(\"걸어가라\")\n"
      ],
      "metadata": {
        "colab": {
          "base_uri": "https://localhost:8080/"
        },
        "id": "in8Dlzm1dmY_",
        "outputId": "cdeae48e-53ff-43d1-fb34-b8c3214c520a"
      },
      "execution_count": null,
      "outputs": [
        {
          "output_type": "stream",
          "name": "stdout",
          "text": [
            "걸어가라\n"
          ]
        }
      ]
    },
    {
      "cell_type": "code",
      "source": [
        "money = 2000\n",
        "card = True\n",
        "if money >= 3000 or card:\n",
        "  print(\"택시를 타고 가라\")\n",
        "else:\n",
        "  print(\"걸어가라\")"
      ],
      "metadata": {
        "colab": {
          "base_uri": "https://localhost:8080/"
        },
        "id": "Fyfw1SSkd49e",
        "outputId": "126ebb80-4571-4f33-d594-d23cd3effb56"
      },
      "execution_count": null,
      "outputs": [
        {
          "output_type": "stream",
          "name": "stdout",
          "text": [
            "택시를 타고 가라\n"
          ]
        }
      ]
    },
    {
      "cell_type": "code",
      "source": [
        "bool(True or True)"
      ],
      "metadata": {
        "colab": {
          "base_uri": "https://localhost:8080/"
        },
        "id": "ZJR7i5AheUiW",
        "outputId": "ccef26aa-83d5-4980-d778-095544aeb732"
      },
      "execution_count": null,
      "outputs": [
        {
          "output_type": "execute_result",
          "data": {
            "text/plain": [
              "True"
            ]
          },
          "metadata": {},
          "execution_count": 68
        }
      ]
    },
    {
      "cell_type": "code",
      "source": [
        "bool(False or True)"
      ],
      "metadata": {
        "colab": {
          "base_uri": "https://localhost:8080/"
        },
        "id": "75JYaLzVeaRm",
        "outputId": "2c8588a0-57a3-49e2-8bf1-63ff062c4303"
      },
      "execution_count": null,
      "outputs": [
        {
          "output_type": "execute_result",
          "data": {
            "text/plain": [
              "True"
            ]
          },
          "metadata": {},
          "execution_count": 70
        }
      ]
    },
    {
      "cell_type": "code",
      "source": [
        "bool(False or False)"
      ],
      "metadata": {
        "colab": {
          "base_uri": "https://localhost:8080/"
        },
        "id": "UV_4MD5Kecv2",
        "outputId": "587742b6-3ed3-4133-bbce-a3d15d46b47b"
      },
      "execution_count": null,
      "outputs": [
        {
          "output_type": "execute_result",
          "data": {
            "text/plain": [
              "False"
            ]
          },
          "metadata": {},
          "execution_count": 71
        }
      ]
    },
    {
      "cell_type": "code",
      "source": [
        "bool(not True)"
      ],
      "metadata": {
        "colab": {
          "base_uri": "https://localhost:8080/"
        },
        "id": "RHHLfx4HeliO",
        "outputId": "5f1243ba-c8f6-417d-d15d-df4f9e567900"
      },
      "execution_count": null,
      "outputs": [
        {
          "output_type": "execute_result",
          "data": {
            "text/plain": [
              "False"
            ]
          },
          "metadata": {},
          "execution_count": 72
        }
      ]
    },
    {
      "cell_type": "code",
      "source": [
        "bool(not False)"
      ],
      "metadata": {
        "colab": {
          "base_uri": "https://localhost:8080/"
        },
        "id": "reDk_8anerZO",
        "outputId": "4a90d8bc-72bf-4c0b-8deb-b421491bcdc0"
      },
      "execution_count": null,
      "outputs": [
        {
          "output_type": "execute_result",
          "data": {
            "text/plain": [
              "True"
            ]
          },
          "metadata": {},
          "execution_count": 73
        }
      ]
    },
    {
      "cell_type": "code",
      "source": [
        "bool(not (True or False))"
      ],
      "metadata": {
        "colab": {
          "base_uri": "https://localhost:8080/"
        },
        "id": "lyvrPYQzewc-",
        "outputId": "210040e1-7b69-4752-a7a0-62908122ac9e"
      },
      "execution_count": null,
      "outputs": [
        {
          "output_type": "execute_result",
          "data": {
            "text/plain": [
              "False"
            ]
          },
          "metadata": {},
          "execution_count": 75
        }
      ]
    },
    {
      "cell_type": "code",
      "source": [
        "bool((not True) or False)"
      ],
      "metadata": {
        "colab": {
          "base_uri": "https://localhost:8080/"
        },
        "id": "vL88RWPFe6mP",
        "outputId": "3333202d-376b-4e95-b44e-958c19e16b53"
      },
      "execution_count": null,
      "outputs": [
        {
          "output_type": "execute_result",
          "data": {
            "text/plain": [
              "False"
            ]
          },
          "metadata": {},
          "execution_count": 76
        }
      ]
    },
    {
      "cell_type": "code",
      "source": [
        "bool((not False) or False)"
      ],
      "metadata": {
        "colab": {
          "base_uri": "https://localhost:8080/"
        },
        "id": "vxV7J16cfMSu",
        "outputId": "39698526-f0e6-461d-ae4c-0b977c32f2ec"
      },
      "execution_count": null,
      "outputs": [
        {
          "output_type": "execute_result",
          "data": {
            "text/plain": [
              "True"
            ]
          },
          "metadata": {},
          "execution_count": 77
        }
      ]
    },
    {
      "cell_type": "code",
      "source": [
        "1 in [1,2,3]"
      ],
      "metadata": {
        "colab": {
          "base_uri": "https://localhost:8080/"
        },
        "id": "OlJWqsW9fT4G",
        "outputId": "00d549ce-a7d0-401b-9e87-ba60d5ef0ea3"
      },
      "execution_count": null,
      "outputs": [
        {
          "output_type": "execute_result",
          "data": {
            "text/plain": [
              "True"
            ]
          },
          "metadata": {},
          "execution_count": 78
        }
      ]
    },
    {
      "cell_type": "code",
      "source": [
        "1 not in [1,2,3]"
      ],
      "metadata": {
        "colab": {
          "base_uri": "https://localhost:8080/"
        },
        "id": "TbDpwTJqf2be",
        "outputId": "2b0cb766-992d-4adc-be00-3fac6df199b8"
      },
      "execution_count": null,
      "outputs": [
        {
          "output_type": "execute_result",
          "data": {
            "text/plain": [
              "False"
            ]
          },
          "metadata": {},
          "execution_count": 79
        }
      ]
    },
    {
      "cell_type": "code",
      "source": [
        "pocket = ['paper', 'cellphone', 'money']\n",
        "if 'money' in pocket:\n",
        "  print(\"택시를 타고 가라\")\n",
        "else:\n",
        "    print(\"걸어가라\")"
      ],
      "metadata": {
        "colab": {
          "base_uri": "https://localhost:8080/"
        },
        "id": "Qvg5mkfhf59f",
        "outputId": "537a5c5a-a445-457e-b95f-e51ec128f978"
      },
      "execution_count": null,
      "outputs": [
        {
          "output_type": "stream",
          "name": "stdout",
          "text": [
            "택시를 타고 가라\n"
          ]
        }
      ]
    },
    {
      "cell_type": "code",
      "source": [
        "pocket = ['paper', 'cellphone', 'money']\n",
        "if 'money' in pocket:\n",
        "  pass\n",
        "else:\n",
        "    print(\"걸어가라\")"
      ],
      "metadata": {
        "id": "Iu5gaBytgVJu"
      },
      "execution_count": null,
      "outputs": []
    },
    {
      "cell_type": "code",
      "source": [
        "pocket = ['paper', 'handphone']\n",
        "card = True\n",
        "if 'money' in pocket:\n",
        "  print(\"택시를 타고 가라\")\n",
        "else:\n",
        "  if card:\n",
        "    print(\"택시를 타고 가라\")\n",
        "  else:\n",
        "      print(\"걸어가라\")\n",
        "    \n",
        "    "
      ],
      "metadata": {
        "colab": {
          "base_uri": "https://localhost:8080/"
        },
        "id": "TDRvGuj3g48u",
        "outputId": "39827c1f-e63b-47a3-ff29-ca9e5ca798f2"
      },
      "execution_count": null,
      "outputs": [
        {
          "output_type": "stream",
          "name": "stdout",
          "text": [
            "택시를 타고 가라\n"
          ]
        }
      ]
    },
    {
      "cell_type": "code",
      "source": [
        "pocket = ['paper', 'handphone']\n",
        "card = True\n",
        "if 'money' in pocket:\n",
        "  print(\"택시를 타고 가라\")\n",
        "elif card:\n",
        "  print(\"택시를 타고 가라\")\n",
        "else:\n",
        "      print(\"걸어가라\")\n",
        "\n",
        "    "
      ],
      "metadata": {
        "colab": {
          "base_uri": "https://localhost:8080/"
        },
        "id": "Wvu-O547hsrX",
        "outputId": "30b8ca4f-36c4-406a-e3a3-a222b3f0af2f"
      },
      "execution_count": null,
      "outputs": [
        {
          "output_type": "stream",
          "name": "stdout",
          "text": [
            "택시를 타고 가라\n"
          ]
        }
      ]
    },
    {
      "cell_type": "code",
      "source": [
        "score = 50\n",
        "if score >= 60:\n",
        "  message = \"success\"\n",
        "else:\n",
        "  message = \"failure\"\n",
        "print(message)"
      ],
      "metadata": {
        "colab": {
          "base_uri": "https://localhost:8080/"
        },
        "id": "JAH2okznh8Wm",
        "outputId": "a1cc366a-10b4-4823-92d0-d475eb1d4de5"
      },
      "execution_count": null,
      "outputs": [
        {
          "output_type": "stream",
          "name": "stdout",
          "text": [
            "failure\n"
          ]
        }
      ]
    },
    {
      "cell_type": "code",
      "source": [],
      "metadata": {
        "id": "av1OFIKci39F"
      },
      "execution_count": null,
      "outputs": []
    }
  ]
}